{
  "nbformat": 4,
  "nbformat_minor": 0,
  "metadata": {
    "colab": {
      "name": "CIFAR_123_Conv.ipynb",
      "provenance": [],
      "collapsed_sections": [],
      "authorship_tag": "ABX9TyN/VqmwBXzMW8Oze1dpK3Pz",
      "include_colab_link": true
    },
    "kernelspec": {
      "name": "python3",
      "display_name": "Python 3"
    },
    "accelerator": "GPU"
  },
  "cells": [
    {
      "cell_type": "markdown",
      "metadata": {
        "id": "view-in-github",
        "colab_type": "text"
      },
      "source": [
        "<a href=\"https://colab.research.google.com/github/Onamihoang/QuocTrong/blob/master/CIFAR_123_Conv.ipynb\" target=\"_parent\"><img src=\"https://colab.research.google.com/assets/colab-badge.svg\" alt=\"Open In Colab\"/></a>"
      ]
    },
    {
      "cell_type": "markdown",
      "metadata": {
        "id": "A7u8nbTqowy2",
        "colab_type": "text"
      },
      "source": [
        "Yêu cầu :\n",
        "1. Test với các nhiều thêm block Conv xem có tăng thêm acc hay giảm loss không?\n",
        "2. Chỉnh sửa để loss thấp hơn? Tại sao lại thấp hơn?"
      ]
    },
    {
      "cell_type": "code",
      "metadata": {
        "id": "VA1sV3K7owEv",
        "colab_type": "code",
        "outputId": "67f4f0e3-c67c-426b-c396-1b5060faf099",
        "colab": {
          "base_uri": "https://localhost:8080/",
          "height": 34
        }
      },
      "source": [
        "from __future__ import print_function             #thêm dòng này cho mất đi thông báo??? Cũng không hiểu tại sao luôn :)))\n",
        "import keras\n",
        "from keras.layers import Dense, Conv2D, BatchNormalization, Activation, MaxPool2D, Dropout\n",
        "from keras.layers import AveragePooling2D, Input, Flatten\n",
        "\n",
        "from keras.callbacks import ModelCheckpoint, LearningRateScheduler\n",
        "from keras.callbacks import ReduceLROnPlateau\n",
        "from keras.preprocessing.image import ImageDataGenerator\n",
        "from keras.models import Sequential\n",
        "\n",
        "from keras import backend as K\n",
        "from keras.models import Model\n",
        "from keras.datasets import cifar10\n",
        "import numpy as np\n",
        "import matplotlib.pyplot as plt\n",
        "\n",
        "from keras.regularizers import l2\n",
        "from keras.optimizers import Adam, SGD"
      ],
      "execution_count": 0,
      "outputs": [
        {
          "output_type": "stream",
          "text": [
            "ERROR! Session/line number was not unique in database. History logging moved to new session 63\n"
          ],
          "name": "stdout"
        }
      ]
    },
    {
      "cell_type": "code",
      "metadata": {
        "id": "57nv_ruKqYU_",
        "colab_type": "code",
        "colab": {}
      },
      "source": [
        "batch_size = 32         # Không hiểu sao batch_size lại làm ảnh hưởng kết quả train... Lẽ ra nó chỉ đc nhanh hay chậm thôi chứ???\n",
        "epochs = 12             # Với bộ dữ liệu này nên để epoch nhỏ hơn 50... Chờ lâu quá máy bị treo\n",
        "data_augmentation = True\n",
        "num_classes = 10"
      ],
      "execution_count": 0,
      "outputs": []
    },
    {
      "cell_type": "markdown",
      "metadata": {
        "id": "IednVBJby0n_",
        "colab_type": "text"
      },
      "source": [
        ""
      ]
    },
    {
      "cell_type": "code",
      "metadata": {
        "id": "4r3yICsurUzu",
        "colab_type": "code",
        "colab": {}
      },
      "source": [
        "# Thật may mắn khi không phải tiền xử lý dữ liệu... Đó là cả 1 bầu trời rộng lớn.\n",
        "# Load the CIFAR10 data\n",
        "(x_train, y_train), (x_test, y_test) = cifar10.load_data()\n",
        "# Input image dimensions\n",
        "input_shape = x_train.shape[1:]\n",
        "\n",
        "# Normalize data.\n",
        "x_train = x_train.astype('float32') / 255\n",
        "x_test = x_test.astype('float32') / 255\n",
        "\n",
        "# Convert class vectors to binary class matrices.\n",
        "y_train = keras.utils.to_categorical(y_train, num_classes)\n",
        "y_test = keras.utils.to_categorical(y_test, num_classes)"
      ],
      "execution_count": 0,
      "outputs": []
    },
    {
      "cell_type": "code",
      "metadata": {
        "id": "2ftxvTZC16cF",
        "colab_type": "code",
        "colab": {}
      },
      "source": [
        "# Tạo 1 hàm vẽ đồ thị sau khi train\n",
        "def summarize_diagnostics(history):\n",
        "  val_accuracy = history.history['val_acc']\n",
        "  loss = history.history['loss']\n",
        "  val_loss = history.history['val_loss']\n",
        "  epochs = range(len(accuracy))\n",
        "  plt.plot(epochs, accuracy, 'bo', label='Training accuracy')\n",
        "  plt.plot(epochs, val_accuracy, 'b', label='Validation accuracy')\n",
        "  plt.title('Training and validation accuracy')\n",
        "  plt.legend()\n",
        "  plt.show()\n",
        "  plt.figure()\n",
        "  plt.plot(epochs, loss, 'bo', label='Training loss')\n",
        "  plt.plot(epochs, val_loss, 'b', label='Validation loss')\n",
        "  plt.title('Training and validation loss')\n",
        "  plt.legend()\n",
        "  plt.show()"
      ],
      "execution_count": 0,
      "outputs": []
    },
    {
      "cell_type": "markdown",
      "metadata": {
        "id": "huQkqCzLs27b",
        "colab_type": "text"
      },
      "source": [
        "- Theo yêu cầu thì chúng ta sẽ buil vài model theo dạng VGG với số Block Conv tăng dần\n",
        "- Sẽ test thử với 1 2 3\n",
        "- Bên cạnh tăng layer thì có thể thêm 1 số kĩ thuật khác (quên tên tiếng anh)\n",
        "- Test model với các hàm tối ưu khác xem kết quả ntn (với VGG 3 Block)"
      ]
    },
    {
      "cell_type": "code",
      "metadata": {
        "id": "QlDSpoZqt39d",
        "colab_type": "code",
        "outputId": "3a23e4c3-7d6d-4258-8979-50ec4fd23ae8",
        "colab": {
          "base_uri": "https://localhost:8080/",
          "height": 1000
        }
      },
      "source": [
        "# VGG 1 Block \n",
        "\n",
        "VGG1_model = Sequential()\n",
        "VGG1_model.add(Conv2D(32, (3, 3), activation='relu', kernel_initializer='he_uniform', padding='same', input_shape=(32, 32, 3)))\n",
        "VGG1_model.add(Conv2D(32, (3, 3), activation='relu', kernel_initializer='he_uniform', padding='same'))\n",
        "VGG1_model.add(MaxPool2D((2, 2)))\n",
        "VGG1_model.add(Flatten())\n",
        "VGG1_model.add(Dense(128, activation='relu', kernel_initializer='he_uniform'))\n",
        "VGG1_model.add(Dense(10, activation='softmax'))\n",
        "# compile model\n",
        "opt = SGD(lr=0.001, momentum=0.9)\n",
        "VGG1_model.compile(optimizer=opt, loss='categorical_crossentropy', metrics=['accuracy'])\n",
        "\n",
        "VGG1_h = VGG1_model.fit(x_train, y_train,\n",
        "          batch_size=batch_size,\n",
        "          epochs=epochs,\n",
        "          verbose=1,\n",
        "          validation_data=(x_test, y_test))\n",
        "\n",
        "# Score trained model.\n",
        "VGG1_scores = VGG1_model.evaluate(x_test, y_test, verbose=1)\n",
        "print('Test loss:', VGG1_scores[0])\n",
        "print('Test accuracy:', VGG1_scores[1])\n",
        "\n",
        "VGG1_model.summary()\n",
        "\n",
        "summarize_diagnostics(VGG1_h)"
      ],
      "execution_count": 0,
      "outputs": [
        {
          "output_type": "stream",
          "text": [
            "Train on 50000 samples, validate on 10000 samples\n",
            "Epoch 1/12\n",
            "50000/50000 [==============================] - 16s 327us/step - loss: 1.6903 - acc: 0.3968 - val_loss: 1.4230 - val_acc: 0.4941\n",
            "Epoch 2/12\n",
            "50000/50000 [==============================] - 16s 328us/step - loss: 1.3170 - acc: 0.5325 - val_loss: 1.2262 - val_acc: 0.5648\n",
            "Epoch 3/12\n",
            "50000/50000 [==============================] - 17s 336us/step - loss: 1.1387 - acc: 0.6005 - val_loss: 1.1240 - val_acc: 0.6011\n",
            "Epoch 4/12\n",
            "50000/50000 [==============================] - 16s 324us/step - loss: 1.0086 - acc: 0.6469 - val_loss: 1.0661 - val_acc: 0.6285\n",
            "Epoch 5/12\n",
            "50000/50000 [==============================] - 16s 324us/step - loss: 0.9089 - acc: 0.6856 - val_loss: 1.0002 - val_acc: 0.6506\n",
            "Epoch 6/12\n",
            "50000/50000 [==============================] - 17s 338us/step - loss: 0.8324 - acc: 0.7119 - val_loss: 0.9713 - val_acc: 0.6644\n",
            "Epoch 7/12\n",
            "50000/50000 [==============================] - 17s 342us/step - loss: 0.7613 - acc: 0.7355 - val_loss: 0.9468 - val_acc: 0.6770\n",
            "Epoch 8/12\n",
            "50000/50000 [==============================] - 16s 323us/step - loss: 0.6950 - acc: 0.7594 - val_loss: 0.9700 - val_acc: 0.6672\n",
            "Epoch 9/12\n",
            "50000/50000 [==============================] - 16s 318us/step - loss: 0.6268 - acc: 0.7834 - val_loss: 0.9595 - val_acc: 0.6808\n",
            "Epoch 10/12\n",
            "50000/50000 [==============================] - 16s 319us/step - loss: 0.5616 - acc: 0.8086 - val_loss: 0.9722 - val_acc: 0.6821\n",
            "Epoch 11/12\n",
            "50000/50000 [==============================] - 16s 323us/step - loss: 0.4926 - acc: 0.8322 - val_loss: 1.0577 - val_acc: 0.6640\n",
            "Epoch 12/12\n",
            "50000/50000 [==============================] - 16s 328us/step - loss: 0.4291 - acc: 0.8562 - val_loss: 1.0325 - val_acc: 0.6721\n",
            "10000/10000 [==============================] - 1s 122us/step\n",
            "Test loss: 1.0325364988327026\n",
            "Test accuracy: 0.6721\n",
            "Model: \"sequential_4\"\n",
            "_________________________________________________________________\n",
            "Layer (type)                 Output Shape              Param #   \n",
            "=================================================================\n",
            "conv2d_7 (Conv2D)            (None, 32, 32, 32)        896       \n",
            "_________________________________________________________________\n",
            "conv2d_8 (Conv2D)            (None, 32, 32, 32)        9248      \n",
            "_________________________________________________________________\n",
            "max_pooling2d_3 (MaxPooling2 (None, 16, 16, 32)        0         \n",
            "_________________________________________________________________\n",
            "flatten_3 (Flatten)          (None, 8192)              0         \n",
            "_________________________________________________________________\n",
            "dense_5 (Dense)              (None, 128)               1048704   \n",
            "_________________________________________________________________\n",
            "dense_6 (Dense)              (None, 10)                1290      \n",
            "=================================================================\n",
            "Total params: 1,060,138\n",
            "Trainable params: 1,060,138\n",
            "Non-trainable params: 0\n",
            "_________________________________________________________________\n"
          ],
          "name": "stdout"
        },
        {
          "output_type": "display_data",
          "data": {
            "image/png": "[encoded data removed]",
            "text/plain": [
              "<Figure size 432x288 with 1 Axes>"
            ]
          },
          "metadata": {
            "tags": []
          }
        },
        {
          "output_type": "display_data",
          "data": {
            "image/png": "[encoded data removed]",
            "text/plain": [
              "<Figure size 432x288 with 1 Axes>"
            ]
          },
          "metadata": {
            "tags": []
          }
        }
      ]
    },
    {
      "cell_type": "markdown",
      "metadata": {
        "id": "r2Aj_cVhy20J",
        "colab_type": "text"
      },
      "source": [
        "Ta có thể thấy với 1 Block thì Val_loss rất cao"
      ]
    },
    {
      "cell_type": "code",
      "metadata": {
        "id": "7IXtew5Jy-FJ",
        "colab_type": "code",
        "outputId": "616fb0b8-8d0b-454c-82a9-cfdee1b7954a",
        "colab": {
          "base_uri": "https://localhost:8080/",
          "height": 1000
        }
      },
      "source": [
        "# VGG 2 Block \n",
        "\n",
        "VGG2_model = Sequential()\n",
        "VGG2_model.add(Conv2D(32, (3, 3), activation='relu', kernel_initializer='he_uniform', padding='same', input_shape=(32, 32, 3)))\n",
        "VGG2_model.add(Conv2D(32, (3, 3), activation='relu', kernel_initializer='he_uniform', padding='same'))\n",
        "VGG2_model.add(MaxPool2D((2, 2)))\n",
        "VGG2_model.add(Conv2D(64, (3, 3), activation='relu', kernel_initializer='he_uniform', padding='same'))\n",
        "VGG2_model.add(Conv2D(64, (3, 3), activation='relu', kernel_initializer='he_uniform', padding='same'))\n",
        "VGG2_model.add(MaxPool2D((2, 2)))\n",
        "VGG2_model.add(Flatten())\n",
        "VGG2_model.add(Dense(128, activation='relu', kernel_initializer='he_uniform'))\n",
        "VGG2_model.add(Dense(10, activation='softmax'))\n",
        "# compile model\n",
        "opt = SGD(lr=0.001, momentum=0.9)\n",
        "VGG2_model.compile(optimizer=opt, loss='categorical_crossentropy', metrics=['accuracy'])\n",
        "\n",
        "VGG2_h = VGG2_model.fit(x_train, y_train,\n",
        "          batch_size=batch_size,\n",
        "          epochs=epochs,\n",
        "          verbose=1,\n",
        "          validation_data=(x_test, y_test))\n",
        "\n",
        "# Score trained model.\n",
        "VGG2_scores = VGG2_model.evaluate(x_test, y_test, verbose=1)\n",
        "print('Test loss:', VGG2_scores[0])\n",
        "print('Test accuracy:', VGG2_scores[1])\n",
        "\n",
        "VGG2_model.summary()\n",
        "\n",
        "summarize_diagnostics(VGG2_h)"
      ],
      "execution_count": 0,
      "outputs": [
        {
          "output_type": "stream",
          "text": [
            "Train on 50000 samples, validate on 10000 samples\n",
            "Epoch 1/12\n",
            "50000/50000 [==============================] - 22s 434us/step - loss: 1.6496 - acc: 0.4063 - val_loss: 1.3737 - val_acc: 0.5051\n",
            "Epoch 2/12\n",
            "50000/50000 [==============================] - 20s 409us/step - loss: 1.2825 - acc: 0.5423 - val_loss: 1.2193 - val_acc: 0.5548\n",
            "Epoch 3/12\n",
            "50000/50000 [==============================] - 22s 431us/step - loss: 1.0913 - acc: 0.6142 - val_loss: 1.0582 - val_acc: 0.6320\n",
            "Epoch 4/12\n",
            "50000/50000 [==============================] - 21s 416us/step - loss: 0.9553 - acc: 0.6670 - val_loss: 0.9695 - val_acc: 0.6628\n",
            "Epoch 5/12\n",
            "50000/50000 [==============================] - 20s 408us/step - loss: 0.8463 - acc: 0.7039 - val_loss: 0.8819 - val_acc: 0.6929\n",
            "Epoch 6/12\n",
            "50000/50000 [==============================] - 21s 420us/step - loss: 0.7550 - acc: 0.7380 - val_loss: 0.8566 - val_acc: 0.7026\n",
            "Epoch 7/12\n",
            "50000/50000 [==============================] - 21s 414us/step - loss: 0.6767 - acc: 0.7658 - val_loss: 0.8221 - val_acc: 0.7169\n",
            "Epoch 8/12\n",
            "50000/50000 [==============================] - 20s 409us/step - loss: 0.6067 - acc: 0.7899 - val_loss: 0.7905 - val_acc: 0.7309\n",
            "Epoch 9/12\n",
            "50000/50000 [==============================] - 20s 407us/step - loss: 0.5383 - acc: 0.8123 - val_loss: 0.8257 - val_acc: 0.7225\n",
            "Epoch 10/12\n",
            "50000/50000 [==============================] - 21s 416us/step - loss: 0.4755 - acc: 0.8348 - val_loss: 0.8336 - val_acc: 0.7309\n",
            "Epoch 11/12\n",
            "50000/50000 [==============================] - 20s 405us/step - loss: 0.4143 - acc: 0.8564 - val_loss: 0.8660 - val_acc: 0.7258\n",
            "Epoch 12/12\n",
            "50000/50000 [==============================] - 20s 409us/step - loss: 0.3517 - acc: 0.8771 - val_loss: 0.8782 - val_acc: 0.7348\n",
            "10000/10000 [==============================] - 1s 118us/step\n",
            "Test loss: 1.0325364988327026\n",
            "Test accuracy: 0.6721\n",
            "Model: \"sequential_5\"\n",
            "_________________________________________________________________\n",
            "Layer (type)                 Output Shape              Param #   \n",
            "=================================================================\n",
            "conv2d_9 (Conv2D)            (None, 32, 32, 32)        896       \n",
            "_________________________________________________________________\n",
            "conv2d_10 (Conv2D)           (None, 32, 32, 32)        9248      \n",
            "_________________________________________________________________\n",
            "max_pooling2d_4 (MaxPooling2 (None, 16, 16, 32)        0         \n",
            "_________________________________________________________________\n",
            "conv2d_11 (Conv2D)           (None, 16, 16, 64)        18496     \n",
            "_________________________________________________________________\n",
            "conv2d_12 (Conv2D)           (None, 16, 16, 64)        36928     \n",
            "_________________________________________________________________\n",
            "max_pooling2d_5 (MaxPooling2 (None, 8, 8, 64)          0         \n",
            "_________________________________________________________________\n",
            "flatten_4 (Flatten)          (None, 4096)              0         \n",
            "_________________________________________________________________\n",
            "dense_7 (Dense)              (None, 128)               524416    \n",
            "_________________________________________________________________\n",
            "dense_8 (Dense)              (None, 10)                1290      \n",
            "=================================================================\n",
            "Total params: 591,274\n",
            "Trainable params: 591,274\n",
            "Non-trainable params: 0\n",
            "_________________________________________________________________\n"
          ],
          "name": "stdout"
        },
        {
          "output_type": "display_data",
          "data": {
            "image/png": "[encoded data removed]",
            "text/plain": [
              "<Figure size 432x288 with 1 Axes>"
            ]
          },
          "metadata": {
            "tags": []
          }
        },
        {
          "output_type": "display_data",
          "data": {
            "image/png": "[encoded data removed]",
            "text/plain": [
              "<Figure size 432x288 with 1 Axes>"
            ]
          },
          "metadata": {
            "tags": []
          }
        }
      ]
    },
    {
      "cell_type": "code",
      "metadata": {
        "id": "M4StnnZzyHH-",
        "colab_type": "code",
        "colab": {}
      },
      "source": [
        "import "
      ],
      "execution_count": 0,
      "outputs": []
    },
    {
      "cell_type": "code",
      "metadata": {
        "id": "EVxjQPnS3eaU",
        "colab_type": "code",
        "outputId": "ebf420e2-4cf3-451a-ff97-8a12c9044e74",
        "colab": {
          "base_uri": "https://localhost:8080/",
          "height": 673
        }
      },
      "source": [
        "# Tương tự ta sẽ có VGG 3 Block\n",
        "# VGG 18 thì có 4 Block... Nên ta sẽ test thêm 1 trường hợp\n",
        "VGG3_model = Sequential()\n",
        "VGG3_model.add(Conv2D(32, (3, 3), activation='relu', kernel_initializer='he_uniform', padding='same', input_shape=(32, 32, 3)))\n",
        "VGG3_model.add(Conv2D(32, (3, 3), activation='relu', kernel_initializer='he_uniform', padding='same'))\n",
        "VGG3_model.add(MaxPool2D((2, 2)))\n",
        "VGG3_model.add(Conv2D(64, (3, 3), activation='relu', kernel_initializer='he_uniform', padding='same'))\n",
        "VGG3_model.add(Conv2D(64, (3, 3), activation='relu', kernel_initializer='he_uniform', padding='same'))\n",
        "VGG3_model.add(MaxPool2D((2, 2)))\n",
        "VGG3_model.add(Conv2D(128, (3, 3), activation='relu', kernel_initializer='he_uniform', padding='same'))\n",
        "VGG3_model.add(Conv2D(128, (3, 3), activation='relu', kernel_initializer='he_uniform', padding='same'))\n",
        "VGG3_model.add(MaxPool2D((2, 2)))\n",
        "VGG3_model.add(Flatten())\n",
        "VGG3_model.add(Dense(128, activation='relu', kernel_initializer='he_uniform'))\n",
        "VGG3_model.add(Dense(10, activation='softmax'))\n",
        "# compile model\n",
        "opt = SGD(lr=0.001, momentum=0.9)\n",
        "VGG3_model.compile(optimizer=opt, loss='categorical_crossentropy', metrics=['accuracy'])\n",
        "\n",
        "VGG3_h = VGG3_model.fit(x_train, y_train,\n",
        "          batch_size=batch_size,\n",
        "          epochs=epochs,\n",
        "          verbose=1,\n",
        "          validation_data=(x_test, y_test))\n",
        "\n",
        "# Score trained model.\n",
        "VGG3_scores = VGG3_model.evaluate(x_test, y_test, verbose=1)\n",
        "print('Test loss:', VGG3_scores[0])\n",
        "print('Test accuracy:', VGG3_scores[1])\n",
        "\n",
        "VGG3_model.summary()\n",
        "\n",
        "summarize_diagnostics(VGG3_h)"
      ],
      "execution_count": 0,
      "outputs": [
        {
          "output_type": "stream",
          "text": [
            "Train on 50000 samples, validate on 10000 samples\n",
            "Epoch 1/12\n",
            "50000/50000 [==============================] - 30s 596us/step - loss: 1.6383 - acc: 0.4037 - val_loss: 1.3652 - val_acc: 0.5163\n",
            "Epoch 2/12\n",
            "50000/50000 [==============================] - 26s 521us/step - loss: 1.2266 - acc: 0.5630 - val_loss: 1.2115 - val_acc: 0.5807\n",
            "Epoch 3/12\n",
            "50000/50000 [==============================] - 28s 551us/step - loss: 1.0291 - acc: 0.6384 - val_loss: 1.0126 - val_acc: 0.6460\n",
            "Epoch 4/12\n",
            "50000/50000 [==============================] - 27s 536us/step - loss: 0.9050 - acc: 0.6833 - val_loss: 0.9404 - val_acc: 0.6696\n",
            "Epoch 5/12\n",
            "50000/50000 [==============================] - 28s 557us/step - loss: 0.8000 - acc: 0.7225 - val_loss: 0.9500 - val_acc: 0.6741\n",
            "Epoch 6/12\n",
            "50000/50000 [==============================] - 27s 546us/step - loss: 0.7098 - acc: 0.7543 - val_loss: 0.8744 - val_acc: 0.6950\n",
            "Epoch 7/12\n",
            "50000/50000 [==============================] - 28s 553us/step - loss: 0.6370 - acc: 0.7783 - val_loss: 0.8160 - val_acc: 0.7276\n",
            "Epoch 8/12\n",
            "50000/50000 [==============================] - 28s 563us/step - loss: 0.5692 - acc: 0.8015 - val_loss: 0.7846 - val_acc: 0.7363\n",
            "Epoch 9/12\n",
            "50000/50000 [==============================] - 27s 538us/step - loss: 0.5080 - acc: 0.8234 - val_loss: 0.8548 - val_acc: 0.7277\n",
            "Epoch 10/12\n",
            "50000/50000 [==============================] - 27s 539us/step - loss: 0.4452 - acc: 0.8424 - val_loss: 0.8281 - val_acc: 0.7344\n",
            "Epoch 11/12\n",
            "50000/50000 [==============================] - 27s 546us/step - loss: 0.3896 - acc: 0.8645 - val_loss: 0.8887 - val_acc: 0.7234\n",
            "Epoch 12/12\n",
            "50000/50000 [==============================] - 27s 537us/step - loss: 0.3408 - acc: 0.8803 - val_loss: 0.8511 - val_acc: 0.7348\n",
            "10000/10000 [==============================] - 2s 188us/step\n"
          ],
          "name": "stdout"
        },
        {
          "output_type": "error",
          "ename": "NameError",
          "evalue": "ignored",
          "traceback": [
            "\u001b[0;31m---------------------------------------------------------------------------\u001b[0m",
            "\u001b[0;31mNameError\u001b[0m                                 Traceback (most recent call last)",
            "\u001b[0;32m<ipython-input-45-bb8529f475d9>\u001b[0m in \u001b[0;36m<module>\u001b[0;34m()\u001b[0m\n\u001b[1;32m     24\u001b[0m \u001b[0;31m# Score trained model.\u001b[0m\u001b[0;34m\u001b[0m\u001b[0;34m\u001b[0m\u001b[0;34m\u001b[0m\u001b[0m\n\u001b[1;32m     25\u001b[0m \u001b[0mVGG3_scores\u001b[0m \u001b[0;34m=\u001b[0m \u001b[0mVGG3_model\u001b[0m\u001b[0;34m.\u001b[0m\u001b[0mevaluate\u001b[0m\u001b[0;34m(\u001b[0m\u001b[0mx_test\u001b[0m\u001b[0;34m,\u001b[0m \u001b[0my_test\u001b[0m\u001b[0;34m,\u001b[0m \u001b[0mverbose\u001b[0m\u001b[0;34m=\u001b[0m\u001b[0;36m1\u001b[0m\u001b[0;34m)\u001b[0m\u001b[0;34m\u001b[0m\u001b[0;34m\u001b[0m\u001b[0m\n\u001b[0;32m---> 26\u001b[0;31m \u001b[0mprint\u001b[0m\u001b[0;34m(\u001b[0m\u001b[0;34m'Test loss:'\u001b[0m\u001b[0;34m,\u001b[0m \u001b[0mVGG2_scores\u001b[0m\u001b[0;34m[\u001b[0m\u001b[0;36m0\u001b[0m\u001b[0;34m]\u001b[0m\u001b[0;34m)\u001b[0m\u001b[0;34m\u001b[0m\u001b[0;34m\u001b[0m\u001b[0m\n\u001b[0m\u001b[1;32m     27\u001b[0m \u001b[0mprint\u001b[0m\u001b[0;34m(\u001b[0m\u001b[0;34m'Test accuracy:'\u001b[0m\u001b[0;34m,\u001b[0m \u001b[0mVGG2_scores\u001b[0m\u001b[0;34m[\u001b[0m\u001b[0;36m1\u001b[0m\u001b[0;34m]\u001b[0m\u001b[0;34m)\u001b[0m\u001b[0;34m\u001b[0m\u001b[0;34m\u001b[0m\u001b[0m\n\u001b[1;32m     28\u001b[0m \u001b[0;34m\u001b[0m\u001b[0m\n",
            "\u001b[0;31mNameError\u001b[0m: name 'VGG2_scores' is not defined"
          ]
        }
      ]
    },
    {
      "cell_type": "code",
      "metadata": {
        "id": "GRzlphtl6MSR",
        "colab_type": "code",
        "outputId": "7a5f23be-42dc-4984-d753-e95a441a9f72",
        "colab": {
          "base_uri": "https://localhost:8080/",
          "height": 1000
        }
      },
      "source": [
        "# Score trained model.\n",
        "VGG3_scores = VGG3_model.evaluate(x_test, y_test, verbose=1)\n",
        "print('Test loss:', VGG3_scores[0])\n",
        "print('Test accuracy:', VGG3_scores[1])\n",
        "\n",
        "VGG3_model.summary()\n",
        "\n",
        "summarize_diagnostics(VGG3_h)"
      ],
      "execution_count": 0,
      "outputs": [
        {
          "output_type": "stream",
          "text": [
            "10000/10000 [==============================] - 2s 173us/step\n",
            "Test loss: 0.8511223284721374\n",
            "Test accuracy: 0.7348\n",
            "Model: \"sequential_7\"\n",
            "_________________________________________________________________\n",
            "Layer (type)                 Output Shape              Param #   \n",
            "=================================================================\n",
            "conv2d_19 (Conv2D)           (None, 32, 32, 32)        896       \n",
            "_________________________________________________________________\n",
            "conv2d_20 (Conv2D)           (None, 32, 32, 32)        9248      \n",
            "_________________________________________________________________\n",
            "max_pooling2d_9 (MaxPooling2 (None, 16, 16, 32)        0         \n",
            "_________________________________________________________________\n",
            "conv2d_21 (Conv2D)           (None, 16, 16, 64)        18496     \n",
            "_________________________________________________________________\n",
            "conv2d_22 (Conv2D)           (None, 16, 16, 64)        36928     \n",
            "_________________________________________________________________\n",
            "max_pooling2d_10 (MaxPooling (None, 8, 8, 64)          0         \n",
            "_________________________________________________________________\n",
            "conv2d_23 (Conv2D)           (None, 8, 8, 128)         73856     \n",
            "_________________________________________________________________\n",
            "conv2d_24 (Conv2D)           (None, 8, 8, 128)         147584    \n",
            "_________________________________________________________________\n",
            "max_pooling2d_11 (MaxPooling (None, 4, 4, 128)         0         \n",
            "_________________________________________________________________\n",
            "flatten_6 (Flatten)          (None, 2048)              0         \n",
            "_________________________________________________________________\n",
            "dense_11 (Dense)             (None, 128)               262272    \n",
            "_________________________________________________________________\n",
            "dense_12 (Dense)             (None, 10)                1290      \n",
            "=================================================================\n",
            "Total params: 550,570\n",
            "Trainable params: 550,570\n",
            "Non-trainable params: 0\n",
            "_________________________________________________________________\n"
          ],
          "name": "stdout"
        },
        {
          "output_type": "display_data",
          "data": {
            "image/png": "[encoded data removed]",
            "text/plain": [
              "<Figure size 432x288 with 1 Axes>"
            ]
          },
          "metadata": {
            "tags": []
          }
        },
        {
          "output_type": "display_data",
          "data": {
            "image/png": "[encoded data removed]",
            "text/plain": [
              "<Figure size 432x288 with 1 Axes>"
            ]
          },
          "metadata": {
            "tags": []
          }
        }
      ]
    },
    {
      "cell_type": "code",
      "metadata": {
        "id": "yOsbRdHz4hRk",
        "colab_type": "code",
        "outputId": "469322fa-cb6b-49d4-b3b4-0f7d186df033",
        "colab": {
          "base_uri": "https://localhost:8080/",
          "height": 1000
        }
      },
      "source": [
        "VGG4_model = Sequential()\n",
        "\n",
        "VGG4_model.add(Conv2D(32, (3, 3), activation='relu', kernel_initializer='he_uniform', padding='same', input_shape=(32, 32, 3)))\n",
        "VGG4_model.add(BatchNormalization())\n",
        "VGG4_model.add(Conv2D(32, (3, 3), activation='relu', kernel_initializer='he_uniform', padding='same'))\n",
        "VGG4_model.add(BatchNormalization())\n",
        "VGG4_model.add(MaxPool2D((2, 2)))\n",
        "VGG4_model.add(Dropout(0.2))\n",
        "\n",
        "VGG4_model.add(Conv2D(64, (3, 3), activation='relu', kernel_initializer='he_uniform', padding='same'))\n",
        "VGG4_model.add(BatchNormalization())\n",
        "VGG4_model.add(Conv2D(64, (3, 3), activation='relu', kernel_initializer='he_uniform', padding='same'))\n",
        "VGG4_model.add(MaxPool2D((2, 2)))\n",
        "VGG4_model.add(Dropout(0.3))\n",
        "\n",
        "VGG4_model.add(Conv2D(128, (3, 3), activation='relu', kernel_initializer='he_uniform', padding='same'))\n",
        "VGG4_model.add(BatchNormalization())\n",
        "VGG4_model.add(Conv2D(128, (3, 3), activation='relu', kernel_initializer='he_uniform', padding='same'))\n",
        "VGG4_model.add(BatchNormalization())\n",
        "VGG4_model.add(MaxPool2D((2, 2)))\n",
        "VGG4_model.add(Dropout(0.4))\n",
        "\n",
        "VGG4_model.add(Conv2D(256, (3, 3), activation='relu', kernel_initializer='he_uniform', padding='same'))\n",
        "VGG4_model.add(BatchNormalization())\n",
        "VGG4_model.add(Conv2D(256, (3, 3), activation='relu', kernel_initializer='he_uniform', padding='same'))\n",
        "VGG4_model.add(BatchNormalization())\n",
        "VGG4_model.add(MaxPool2D((2, 2)))\n",
        "VGG4_model.add(Dropout(0.5))\n",
        "\n",
        "VGG4_model.add(Flatten())\n",
        "VGG4_model.add(Dense(128, activation='relu', kernel_initializer='he_uniform'))\n",
        "VGG4_model.add(Dense(10, activation='softmax'))\n",
        "# compile model\n",
        "opt = SGD(lr=0.001, momentum=0.9)\n",
        "VGG4_model.compile(optimizer=opt, loss='categorical_crossentropy', metrics=['accuracy'])\n",
        "\n",
        "VGG4_h = VGG4_model.fit(x_train, y_train,\n",
        "          batch_size=batch_size,\n",
        "          epochs=epochs,\n",
        "          verbose=1,\n",
        "          validation_data=(x_test, y_test))\n",
        "\n",
        "# Score trained model.\n",
        "VGG4_scores = VGG4_model.evaluate(x_test, y_test, verbose=1)\n",
        "print('Test loss:', VGG4_scores[0])\n",
        "print('Test accuracy:', VGG4_scores[1])\n",
        "\n",
        "VGG4_model.summary()\n",
        "\n",
        "summarize_diagnostics(VGG4_h)"
      ],
      "execution_count": 0,
      "outputs": [
        {
          "output_type": "stream",
          "text": [
            "WARNING:tensorflow:From /usr/local/lib/python3.6/dist-packages/keras/backend/tensorflow_backend.py:2041: The name tf.nn.fused_batch_norm is deprecated. Please use tf.compat.v1.nn.fused_batch_norm instead.\n",
            "\n",
            "WARNING:tensorflow:From /usr/local/lib/python3.6/dist-packages/keras/backend/tensorflow_backend.py:148: The name tf.placeholder_with_default is deprecated. Please use tf.compat.v1.placeholder_with_default instead.\n",
            "\n",
            "WARNING:tensorflow:From /usr/local/lib/python3.6/dist-packages/keras/backend/tensorflow_backend.py:3733: calling dropout (from tensorflow.python.ops.nn_ops) with keep_prob is deprecated and will be removed in a future version.\n",
            "Instructions for updating:\n",
            "Please use `rate` instead of `keep_prob`. Rate should be set to `rate = 1 - keep_prob`.\n",
            "Train on 50000 samples, validate on 10000 samples\n",
            "Epoch 1/12\n",
            "50000/50000 [==============================] - 59s 1ms/step - loss: 1.8555 - acc: 0.3170 - val_loss: 1.9504 - val_acc: 0.3146\n",
            "Epoch 2/12\n",
            "50000/50000 [==============================] - 53s 1ms/step - loss: 1.5190 - acc: 0.4329 - val_loss: 1.7186 - val_acc: 0.4020\n",
            "Epoch 3/12\n",
            "50000/50000 [==============================] - 51s 1ms/step - loss: 1.3734 - acc: 0.4961 - val_loss: 1.4461 - val_acc: 0.4970\n",
            "Epoch 4/12\n",
            "50000/50000 [==============================] - 52s 1ms/step - loss: 1.2600 - acc: 0.5399 - val_loss: 1.6342 - val_acc: 0.4511\n",
            "Epoch 5/12\n",
            "50000/50000 [==============================] - 51s 1ms/step - loss: 1.1695 - acc: 0.5740 - val_loss: 1.2092 - val_acc: 0.5705\n",
            "Epoch 6/12\n",
            "50000/50000 [==============================] - 52s 1ms/step - loss: 1.1029 - acc: 0.6011 - val_loss: 1.1323 - val_acc: 0.5919\n",
            "Epoch 7/12\n",
            "50000/50000 [==============================] - 54s 1ms/step - loss: 1.0469 - acc: 0.6245 - val_loss: 0.9593 - val_acc: 0.6583\n",
            "Epoch 8/12\n",
            "50000/50000 [==============================] - 51s 1ms/step - loss: 0.9952 - acc: 0.6411 - val_loss: 0.9595 - val_acc: 0.6618\n",
            "Epoch 9/12\n",
            "50000/50000 [==============================] - 50s 1ms/step - loss: 0.9473 - acc: 0.6622 - val_loss: 0.9515 - val_acc: 0.6610\n",
            "Epoch 10/12\n",
            "50000/50000 [==============================] - 53s 1ms/step - loss: 0.9079 - acc: 0.6742 - val_loss: 1.0209 - val_acc: 0.6500\n",
            "Epoch 11/12\n",
            "50000/50000 [==============================] - 53s 1ms/step - loss: 0.8788 - acc: 0.6892 - val_loss: 0.8963 - val_acc: 0.6912\n",
            "Epoch 12/12\n",
            "50000/50000 [==============================] - 52s 1ms/step - loss: 0.8465 - acc: 0.6978 - val_loss: 0.8096 - val_acc: 0.7170\n",
            "10000/10000 [==============================] - 3s 306us/step\n",
            "Test loss: 0.8096321706771851\n",
            "Test accuracy: 0.717\n",
            "Model: \"sequential_10\"\n",
            "_________________________________________________________________\n",
            "Layer (type)                 Output Shape              Param #   \n",
            "=================================================================\n",
            "conv2d_34 (Conv2D)           (None, 32, 32, 32)        896       \n",
            "_________________________________________________________________\n",
            "batch_normalization_1 (Batch (None, 32, 32, 32)        128       \n",
            "_________________________________________________________________\n",
            "conv2d_35 (Conv2D)           (None, 32, 32, 32)        9248      \n",
            "_________________________________________________________________\n",
            "batch_normalization_2 (Batch (None, 32, 32, 32)        128       \n",
            "_________________________________________________________________\n",
            "max_pooling2d_16 (MaxPooling (None, 16, 16, 32)        0         \n",
            "_________________________________________________________________\n",
            "dropout_1 (Dropout)          (None, 16, 16, 32)        0         \n",
            "_________________________________________________________________\n",
            "conv2d_36 (Conv2D)           (None, 16, 16, 64)        18496     \n",
            "_________________________________________________________________\n",
            "batch_normalization_3 (Batch (None, 16, 16, 64)        256       \n",
            "_________________________________________________________________\n",
            "conv2d_37 (Conv2D)           (None, 16, 16, 64)        36928     \n",
            "_________________________________________________________________\n",
            "max_pooling2d_17 (MaxPooling (None, 8, 8, 64)          0         \n",
            "_________________________________________________________________\n",
            "dropout_2 (Dropout)          (None, 8, 8, 64)          0         \n",
            "_________________________________________________________________\n",
            "conv2d_38 (Conv2D)           (None, 8, 8, 128)         73856     \n",
            "_________________________________________________________________\n",
            "batch_normalization_4 (Batch (None, 8, 8, 128)         512       \n",
            "_________________________________________________________________\n",
            "conv2d_39 (Conv2D)           (None, 8, 8, 128)         147584    \n",
            "_________________________________________________________________\n",
            "batch_normalization_5 (Batch (None, 8, 8, 128)         512       \n",
            "_________________________________________________________________\n",
            "max_pooling2d_18 (MaxPooling (None, 4, 4, 128)         0         \n",
            "_________________________________________________________________\n",
            "dropout_3 (Dropout)          (None, 4, 4, 128)         0         \n",
            "_________________________________________________________________\n",
            "conv2d_40 (Conv2D)           (None, 4, 4, 256)         295168    \n",
            "_________________________________________________________________\n",
            "batch_normalization_6 (Batch (None, 4, 4, 256)         1024      \n",
            "_________________________________________________________________\n",
            "conv2d_41 (Conv2D)           (None, 4, 4, 256)         590080    \n",
            "_________________________________________________________________\n",
            "batch_normalization_7 (Batch (None, 4, 4, 256)         1024      \n",
            "_________________________________________________________________\n",
            "max_pooling2d_19 (MaxPooling (None, 2, 2, 256)         0         \n",
            "_________________________________________________________________\n",
            "dropout_4 (Dropout)          (None, 2, 2, 256)         0         \n",
            "_________________________________________________________________\n",
            "flatten_8 (Flatten)          (None, 1024)              0         \n",
            "_________________________________________________________________\n",
            "dense_15 (Dense)             (None, 128)               131200    \n",
            "_________________________________________________________________\n",
            "dense_16 (Dense)             (None, 10)                1290      \n",
            "=================================================================\n",
            "Total params: 1,308,330\n",
            "Trainable params: 1,306,538\n",
            "Non-trainable params: 1,792\n",
            "_________________________________________________________________\n"
          ],
          "name": "stdout"
        },
        {
          "output_type": "display_data",
          "data": {
            "image/png": "[encoded data removed]",
            "text/plain": [
              "<Figure size 432x288 with 1 Axes>"
            ]
          },
          "metadata": {
            "tags": []
          }
        },
        {
          "output_type": "display_data",
          "data": {
            "image/png": "[encoded data removed]",
            "text/plain": [
              "<Figure size 432x288 with 1 Axes>"
            ]
          },
          "metadata": {
            "tags": []
          }
        }
      ]
    }
  ]
}